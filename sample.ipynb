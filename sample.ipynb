{
 "cells": [
  {
   "cell_type": "code",
   "execution_count": 1,
   "id": "2e1188b9",
   "metadata": {},
   "outputs": [
    {
     "name": "stdout",
     "output_type": "stream",
     "text": [
      "How are you?\n"
     ]
    }
   ],
   "source": [
    "print(\"How are you?\")\n"
   ]
  },
  {
   "cell_type": "code",
   "execution_count": 2,
   "id": "b91ecda1",
   "metadata": {},
   "outputs": [],
   "source": [
    "import pandas as pd\n",
    "import numpy as np\n",
    "import matplotlib.pyplot as plt\n",
    "import sklearn"
   ]
  },
  {
   "cell_type": "markdown",
   "id": "80941eaa",
   "metadata": {},
   "source": [
    "#blue box\n"
   ]
  },
  {
   "cell_type": "code",
   "execution_count": 1,
   "id": "abc343e8",
   "metadata": {},
   "outputs": [
    {
     "name": "stdout",
     "output_type": "stream",
     "text": [
      " Volume in drive C has no label.\n",
      " Volume Serial Number is B808-D2B3\n",
      "\n",
      " Directory of C:\\Users\\Archismita\\Desktop\\mlproject\n",
      "\n",
      "09/23/2023  08:49 PM    <DIR>          .\n",
      "09/23/2023  02:57 PM    <DIR>          ..\n",
      "09/23/2023  03:37 PM    <DIR>          .ipynb_checkpoints\n",
      "09/23/2023  03:36 PM           332,025 6-step-ml-framework.png\n",
      "09/23/2023  03:14 PM    <DIR>          env\n",
      "09/23/2023  03:36 PM            11,328 heart-disease.csv\n",
      "09/23/2023  08:49 PM             1,242 sample.ipynb\n",
      "               3 File(s)        344,595 bytes\n",
      "               4 Dir(s)  161,707,614,208 bytes free\n"
     ]
    }
   ],
   "source": [
    "ls\n"
   ]
  },
  {
   "cell_type": "code",
   "execution_count": 2,
   "id": "e07b2c11",
   "metadata": {},
   "outputs": [],
   "source": [
    "import pandas as pd"
   ]
  },
  {
   "cell_type": "code",
   "execution_count": null,
   "id": "5d8ee943",
   "metadata": {},
   "outputs": [],
   "source": []
  }
 ],
 "metadata": {
  "kernelspec": {
   "display_name": "Python 3 (ipykernel)",
   "language": "python",
   "name": "python3"
  },
  "language_info": {
   "codemirror_mode": {
    "name": "ipython",
    "version": 3
   },
   "file_extension": ".py",
   "mimetype": "text/x-python",
   "name": "python",
   "nbconvert_exporter": "python",
   "pygments_lexer": "ipython3",
   "version": "3.10.13"
  }
 },
 "nbformat": 4,
 "nbformat_minor": 5
}
